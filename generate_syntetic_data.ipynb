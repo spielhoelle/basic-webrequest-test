{
 "cells": [
  {
   "cell_type": "markdown",
   "metadata": {},
   "source": [
    "# syntentic data generation"
   ]
  },
  {
   "cell_type": "code",
   "execution_count": 7,
   "metadata": {},
   "outputs": [
    {
     "name": "stdout",
     "output_type": "stream",
     "text": [
      "resp ```gherkin\n",
      "Feature: Def function with two arguments\n",
      "\n",
      "  Scenario: Sum of two numbers using def function\n",
      "    Given the inputs x and y are provided\n",
      "    When the function def(x, y) is called\n",
      "    Then the output should be the sum of x and y\n",
      "    And the value of the output should be stored in a variable, say result\n",
      "\n",
      "  Scenario: Test for empty input\n",
      "    Given the input x is not provided\n",
      "    When the function def(x, y) is called with empty input\n",
      "    Then an error message should be displayed indicating that x is required\n",
      "```\n"
     ]
    }
   ],
   "source": [
    "import asyncio\n",
    "import time\n",
    "import random\n",
    "\n",
    "from langchain.chains import LLMChain\n",
    "from langchain.prompts import PromptTemplate\n",
    "from langchain.llms import Ollama\n",
    "\n",
    "\n",
    "llm = Ollama(temperature=0.9, model=\"mistral\")\n",
    "prompt = PromptTemplate(\n",
    "    input_variables=[\"function\"],\n",
    "    template=\"Write a short Gherkin language testcase for the function for {function}.\",\n",
    ")\n",
    "chain = LLMChain(llm=llm, prompt=prompt)\n",
    "resp = chain.run(function=\"def(x,y):\\n\\treturn x+y\\n\")\n",
    "print(\"resp\", resp)"
   ]
  },
  {
   "cell_type": "code",
   "execution_count": 9,
   "metadata": {},
   "outputs": [
    {
     "name": "stdout",
     "output_type": "stream",
     "text": [
      "resp2 ```gherkin\n",
      "Feature: Def function with two arguments\n",
      "\n",
      "  Scenario: Sum of two numbers using def function\n",
      "    Given the inputs x and y are provided\n",
      "    When the function def(x, y) is called\n",
      "    Then the output should be the sum of x and y\n",
      "    And the value of the output should be stored in a variable, say result\n",
      "\n",
      "  Scenario: Test for empty input\n",
      "    Given the input x is not provided\n",
      "    When the function def(x, y) is called with empty input\n",
      "    Then an error message should be displayed indicating that x is required\n",
      "```\n"
     ]
    }
   ],
   "source": [
    "prompt = PromptTemplate(\n",
    "    input_variables=[\"function\"],\n",
    "    template=\"Write a short Gherkin language testcase for the function for {function}.\",\n",
    ")\n",
    "chain = LLMChain(llm=llm, prompt=prompt)\n",
    "\n",
    "resp2 = chain.run(f\"Generate the python from this plain-text testcase: {resp}\")\n",
    "print(\"resp2\", resp2)"
   ]
  }
 ],
 "metadata": {
  "kernelspec": {
   "display_name": "async-vbal",
   "language": "python",
   "name": "python3"
  },
  "language_info": {
   "codemirror_mode": {
    "name": "ipython",
    "version": 3
   },
   "file_extension": ".py",
   "mimetype": "text/x-python",
   "name": "python",
   "nbconvert_exporter": "python",
   "pygments_lexer": "ipython3",
   "version": "3.10.12"
  }
 },
 "nbformat": 4,
 "nbformat_minor": 2
}
